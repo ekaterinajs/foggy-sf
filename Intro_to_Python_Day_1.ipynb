{
  "cells": [
    {
      "cell_type": "markdown",
      "metadata": {
        "id": "view-in-github",
        "colab_type": "text"
      },
      "source": [
        "<a href=\"https://colab.research.google.com/github/ekaterinajs/foggy-sf/blob/master/Intro_to_Python_Day_1.ipynb\" target=\"_parent\"><img src=\"https://colab.research.google.com/assets/colab-badge.svg\" alt=\"Open In Colab\"/></a>"
      ]
    },
    {
      "cell_type": "markdown",
      "metadata": {
        "id": "hNZsNn_9Wx4W"
      },
      "source": [
        "# Intro to Python (Part I)\n",
        "\n",
        "\n",
        "\n",
        "---\n",
        "<img src=\"https://calnerds.berkeley.edu/css/images/logo.jpg\"  /> <!--style=\"width: 500px; height: 275px;\"-->\n",
        "\n",
        "### Introduction to Python\n",
        "\n",
        "\n",
        "\n",
        "---\n",
        "<!--\n",
        "### Topics Covered\n",
        "- Variable Assignment\n",
        "- Strings\n",
        "- Numerals\n",
        "- Lists, Arrays, and Tuples\n",
        "- Built-ins\n",
        "- Dictionaries\n",
        "- Loops\n",
        "- Conditionals\n",
        "- Functions\n",
        "- Libraries\n",
        "- Files\n",
        "- Errors\n",
        "- Comprehensions\n",
        "-->\n",
        "\n",
        "### Table of Contents\n",
        "\n",
        "1 - [Data Types](#section1)<br>\n",
        "\n",
        "&nbsp;&nbsp;&nbsp;&nbsp;&nbsp;&nbsp; a - [Variable Assignment](#subsection1)<br>\n",
        "\n",
        "&nbsp;&nbsp;&nbsp;&nbsp;&nbsp;&nbsp; b - [Strings](#subsection2)<br>\n",
        "\n",
        "&nbsp;&nbsp;&nbsp;&nbsp;&nbsp;&nbsp; c - [Numerals](#subsection3)<br>\n",
        "\n",
        "&nbsp;&nbsp;&nbsp;&nbsp;&nbsp;&nbsp; d - [Booleans](#subsection4)<br>\n",
        "\n",
        "2 - [Data Structures](#section2)<br>\n",
        "\n",
        "&nbsp;&nbsp;&nbsp;&nbsp;&nbsp;&nbsp; a - [Lists](#subsection5)<br>\n",
        "\n",
        "&nbsp;&nbsp;&nbsp;&nbsp;&nbsp;&nbsp; b - [Arrays](#subsection6)<br>\n",
        "\n",
        "&nbsp;&nbsp;&nbsp;&nbsp;&nbsp;&nbsp; c - [Tuples](#subsection7)<br>\n",
        "\n",
        "&nbsp;&nbsp;&nbsp;&nbsp;&nbsp;&nbsp; d - [Dictionaries](#subsection8)<br>\n",
        "\n",
        "\n",
        "\n",
        "**Dependencies:**"
      ]
    },
    {
      "cell_type": "code",
      "execution_count": null,
      "metadata": {
        "id": "lhnnNODsWx4c"
      },
      "outputs": [],
      "source": [
        "import numpy as np\n",
        "import pandas as pd\n",
        "import math"
      ]
    },
    {
      "cell_type": "markdown",
      "source": [
        "# Jupyter Notebooks and How to Use Them"
      ],
      "metadata": {
        "id": "2iw16FxqXTEg"
      }
    },
    {
      "cell_type": "markdown",
      "source": [
        "Before we go on our exciting Python Journey, let's first review which tools 🛠 we'll be using on this journey\n",
        "\n",
        "* **Python** - is a **programming language**, it also **uses libraries or packages** (eg. NumPy, Pandas, SciPy, and others). Think of them as collections of functions specific to a certain task or series of tasks. Each field of study usually builds their own libraries specific to their work. 🐍\n",
        "* **Jupyter Notebooks** (or IPython Notebooks) is an interactive **application for creating and sharing computational documents**. You can use it to create and share documents that contain live code, equations, visualizations, and text. 📓📒\n",
        "* **Anaconda Navigator** is a desktop graphical user interface (GUI) that **allows you to launch applications and manage conda packages, environments, and channels without using command line interface** (CLI) commands. I.e. it is building an environment for you where Python and its main packages are already installed, which allows you to just open a file like a Jupyter Notebook and just code away.👩‍💻👨‍💻\n"
      ],
      "metadata": {
        "id": "xWm7tEbzXefM"
      }
    },
    {
      "cell_type": "markdown",
      "source": [
        "\n",
        "\n",
        "### Jupyter Notebook 101"
      ],
      "metadata": {
        "id": "RF6UioP1az6k"
      }
    },
    {
      "cell_type": "markdown",
      "source": [
        "A notebook is a document made of cells. You can write in **markdown cells** (usually have a white background) or you can perform calculations in **code cells** (normally gray, stand out as a cell). This text is located in a markdown cell, and the cell below is a code cell.\n",
        "Let's run it! - Oh wait, we don't yet know how to \"run\" a cell.\n",
        "\n",
        "Here are a few ways to run a cell:\n",
        "\n",
        "* You can click the play button on the top\n",
        "* ⌃ ⏎: Runs the current cell (return + shift).\n",
        "* ⇧↩: Runs the current cell and select the cell below it (return + option).\n",
        "\n",
        "Now let's try it."
      ],
      "metadata": {
        "id": "4TH9tjKca6E_"
      }
    },
    {
      "cell_type": "code",
      "source": [
        "# EXAMPLE\n",
        "\n",
        "\"running my code cell\""
      ],
      "metadata": {
        "id": "tij9lkIja5Hg"
      },
      "execution_count": null,
      "outputs": []
    },
    {
      "cell_type": "markdown",
      "source": [
        "Notice that you have **square brackets** next to your code cells. If they are empty, the code has never been run. Once you ran a cell, you can see a number appear inside a bracket. This number signifies the **order of operation** in the cell. It doesn't matter where the cell is located in the notebook, the number **will only depend on the order of operation**. And if you \"run\" a cell multiple times, the order will change."
      ],
      "metadata": {
        "id": "YvxUlYeBcam8"
      }
    },
    {
      "cell_type": "markdown",
      "source": [
        "Also, use can see that some text (running my code cell) gets an output, and some text (EXAMPLE) does not. Well, notice how we added a hashtag sign (#) in front of EXAMPLE? That's what made all the difference!\n",
        "A **#** signifies that that **line in the code cell is just a comment**. It will not be outputed. It allows you to add useful remarks about your code that would be helpful to both future you and your colleagues or project partners."
      ],
      "metadata": {
        "id": "2sLJPen5eS0z"
      }
    },
    {
      "cell_type": "markdown",
      "source": [
        "How do I make a new code cell:\n",
        "\n",
        "* You can click a ➕ sign at the top\n",
        "* You can navigate to Insert - Code cell\n",
        "* When running the previous cell, use return+option (Mac) or enter+Alt (PC)"
      ],
      "metadata": {
        "id": "DjyNTKdMdZ6u"
      }
    },
    {
      "cell_type": "markdown",
      "source": [
        "We think you are ready to code! Let's run the cell below and start our Python journey. 🎉🚢🐍"
      ],
      "metadata": {
        "id": "2qwE16k9eAab"
      }
    },
    {
      "cell_type": "code",
      "source": [
        "# EXAMPLE\n",
        "\n",
        "\"Let's Go! 🎉\""
      ],
      "metadata": {
        "id": "UZomtyerax3r"
      },
      "execution_count": null,
      "outputs": []
    },
    {
      "cell_type": "markdown",
      "metadata": {
        "id": "c3fmxHIGWx4e"
      },
      "source": [
        "---\n",
        "## Variable Assignment  <a id='subsection1'></a>"
      ]
    },
    {
      "cell_type": "markdown",
      "metadata": {
        "id": "ZNxTZoOiWx4f"
      },
      "source": [
        "We should think of a variable as a container or a storage box that allows us to save various types of information we plan to use later. Defining a variable consists of two components: a name it will be called by and information you store under that name. One variable can hold one type of information."
      ]
    },
    {
      "cell_type": "code",
      "execution_count": null,
      "metadata": {
        "id": "QaFCX5_sWx4f"
      },
      "outputs": [],
      "source": [
        "# EXAMPLE\n",
        "\n",
        "variable1 = \"some variable\"\n",
        "variable1"
      ]
    },
    {
      "cell_type": "code",
      "execution_count": null,
      "metadata": {
        "id": "0EzPARKyWx4f"
      },
      "outputs": [],
      "source": [
        "print(variable1)"
      ]
    },
    {
      "cell_type": "markdown",
      "metadata": {
        "id": "BKK394LAWx4g"
      },
      "source": [
        "In the next cell assign the variable hello to a phrase \"Hello World\"."
      ]
    },
    {
      "cell_type": "code",
      "execution_count": null,
      "metadata": {
        "id": "ymFgqbRnWx4h"
      },
      "outputs": [],
      "source": [
        "# EXERCISE\n",
        "\n",
        "hello  = \"...\"\n",
        "hello"
      ]
    },
    {
      "cell_type": "markdown",
      "metadata": {
        "id": "2NuKHcRxWx4h"
      },
      "source": [
        "---\n",
        "\n",
        "# Data Types <a id=\"section1\"/>"
      ]
    },
    {
      "cell_type": "markdown",
      "metadata": {
        "id": "p96I4fzdWx4h"
      },
      "source": [
        "Every programming language has different types of data that it can use. A data type is essentially a way the information can be saved and manipulated. Each data type has its own functions and methods that can modify it. And usually, the functions that can modify one data types, won't work with the other or give a different result. That is why it is important to know your data types."
      ]
    },
    {
      "cell_type": "markdown",
      "metadata": {
        "id": "CozCsZWFWx4i"
      },
      "source": [
        "## Strings  <a id='subsection2'></a>"
      ]
    },
    {
      "cell_type": "markdown",
      "metadata": {
        "id": "igt5ssuhWx4i"
      },
      "source": [
        "A string is a data types that consists of textual information. It will read all types of data as a text, even if you were to use numbers. Strings are defined by the quotation marks (either double or single)."
      ]
    },
    {
      "cell_type": "code",
      "execution_count": null,
      "metadata": {
        "id": "lRdKNpt1Wx4i"
      },
      "outputs": [],
      "source": [
        "# EXAMPLE\n",
        "\n",
        "\"Kseniya Usovich\""
      ]
    },
    {
      "cell_type": "markdown",
      "metadata": {
        "id": "UhCaMmQdWx4j"
      },
      "source": [
        "Textual info without the quotation marks is read as a variable, and if that variable doesn't contain any info will give you an error."
      ]
    },
    {
      "cell_type": "code",
      "execution_count": null,
      "metadata": {
        "id": "oxBbx24zWx4j"
      },
      "outputs": [],
      "source": [
        "# EXAMPLE\n",
        "\n",
        "Kseniya"
      ]
    },
    {
      "cell_type": "markdown",
      "metadata": {
        "id": "3ttDprgvWx4k"
      },
      "source": [
        "You can save your string into a variable. In the cell below, create a variable name with your name in it."
      ]
    },
    {
      "cell_type": "code",
      "execution_count": null,
      "metadata": {
        "id": "US4LhpWSWx4k"
      },
      "outputs": [],
      "source": [
        "# EXERCISE\n",
        "\n",
        "name = \"...\"\n",
        "name"
      ]
    },
    {
      "cell_type": "markdown",
      "metadata": {
        "id": "pU5Lc7FRWx4l"
      },
      "source": [
        "As was mentioned before, you can use either double or single quotation marks. But be careful, because some of the textual information might already contain the single (more common) or double (less common) quotation marks inside. Like so:"
      ]
    },
    {
      "cell_type": "code",
      "execution_count": null,
      "metadata": {
        "id": "e4gNx7JgWx4m"
      },
      "outputs": [],
      "source": [
        "# EXAMPLE\n",
        "\n",
        "\"Joe's\""
      ]
    },
    {
      "cell_type": "markdown",
      "metadata": {
        "id": "Rzv5uNk5Wx4m"
      },
      "source": [
        "If we were to use single quotation marks on the outside, it would give us an error:"
      ]
    },
    {
      "cell_type": "code",
      "execution_count": null,
      "metadata": {
        "id": "ZEKbP2SSWx4m"
      },
      "outputs": [],
      "source": [
        "# EXAMPLE\n",
        "\n",
        "'Joe's'"
      ]
    },
    {
      "cell_type": "markdown",
      "metadata": {
        "id": "8NmQC19vWx4n"
      },
      "source": [
        "In order to avoid that error, simply put a backslash before the quotation mark, so the computer will read it as part of the string instead of a part of the code itself."
      ]
    },
    {
      "cell_type": "code",
      "execution_count": null,
      "metadata": {
        "id": "jXNcWaqoWx4n"
      },
      "outputs": [],
      "source": [
        "# EXAMPLE\n",
        "\n",
        "'Joe\\'s'"
      ]
    },
    {
      "cell_type": "markdown",
      "metadata": {
        "id": "Bf4DM4pKWx4o"
      },
      "source": [
        "Everything inside that quotation marks will be read as a textual information. Compare the outputs in the cell below."
      ]
    },
    {
      "cell_type": "code",
      "execution_count": null,
      "metadata": {
        "id": "h4in3rmbWx4o"
      },
      "outputs": [],
      "source": [
        "# EXAMPLE\n",
        "\n",
        "print(\"2 + 3\")\n",
        "print(2 + 3)"
      ]
    },
    {
      "cell_type": "markdown",
      "metadata": {
        "id": "_gTsZY8yWx4p"
      },
      "source": [
        "### String Methods"
      ]
    },
    {
      "cell_type": "markdown",
      "metadata": {
        "id": "3wnwE3BCWx4p"
      },
      "source": [
        "There are a few useful built-in functions and methods we can use for strings. We can either capitalize all the letters or change them all to a lower-case."
      ]
    },
    {
      "cell_type": "code",
      "execution_count": null,
      "metadata": {
        "id": "PEyvIZdXWx4p"
      },
      "outputs": [],
      "source": [
        "# EXAMPLE\n",
        "\n",
        "print(name.upper())\n",
        "print(name)"
      ]
    },
    {
      "cell_type": "markdown",
      "metadata": {
        "id": "CqQiiWUgWx4q"
      },
      "source": [
        "As you can see, the name hasn't changed. What should we do to change all the letters to upper-case for good?"
      ]
    },
    {
      "cell_type": "code",
      "execution_count": null,
      "metadata": {
        "id": "ujkdZSBcWx4q"
      },
      "outputs": [],
      "source": [
        "#EXERCISE\n",
        "\n",
        "..."
      ]
    },
    {
      "cell_type": "markdown",
      "metadata": {
        "id": "oCbsCpHAWx4r"
      },
      "source": [
        "The way to change all the letters to lower-case is very similar to the one we have shown above."
      ]
    },
    {
      "cell_type": "code",
      "execution_count": null,
      "metadata": {
        "id": "vW_xAAE2Wx4r"
      },
      "outputs": [],
      "source": [
        "# EXAMPLE\n",
        "\n",
        "print(name.lower())\n",
        "print(name)"
      ]
    },
    {
      "cell_type": "markdown",
      "metadata": {
        "id": "_lTgc2NGWx4s"
      },
      "source": [
        "To know what a method does, you can use **?** after it to learn what it is doing."
      ]
    },
    {
      "cell_type": "code",
      "execution_count": null,
      "metadata": {
        "id": "hK5x2q5nWx4t"
      },
      "outputs": [],
      "source": [
        "# We use \"str\" for string\n",
        "\n",
        "str.lower?"
      ]
    },
    {
      "cell_type": "markdown",
      "metadata": {
        "id": "VYJPe9p1Wx4u"
      },
      "source": [
        "### String Functions"
      ]
    },
    {
      "cell_type": "markdown",
      "metadata": {
        "id": "ogK3yPBwWx4v"
      },
      "source": [
        "Another built-in function you will see a lot is **len(   )**. It allows us to count the amount of characters (string) or objects (lists, arrays, etc.)."
      ]
    },
    {
      "cell_type": "code",
      "execution_count": null,
      "metadata": {
        "id": "Nj3jeNZRWx4w"
      },
      "outputs": [],
      "source": [
        "# EXAMPLE\n",
        "\n",
        "\n",
        "len(name)"
      ]
    },
    {
      "cell_type": "markdown",
      "metadata": {
        "id": "RQtLidK3Wx4x"
      },
      "source": [
        "Before running the code cell below, consider what the output will be."
      ]
    },
    {
      "cell_type": "code",
      "execution_count": null,
      "metadata": {
        "id": "n0tIZkJGWx4x"
      },
      "outputs": [],
      "source": [
        "# EXAMPLE\n",
        "\n",
        "new_string = \"Good Morning\"\n",
        "\n",
        "len(new_string)"
      ]
    },
    {
      "cell_type": "markdown",
      "metadata": {
        "id": "5-W72ulaWx4x"
      },
      "source": [
        "Did the output match your prediction? Why or why not?"
      ]
    },
    {
      "cell_type": "markdown",
      "metadata": {
        "id": "r4_WYeBjWx4y"
      },
      "source": [
        "---\n",
        "##  Numerals <a id='subsection3'></a>"
      ]
    },
    {
      "cell_type": "markdown",
      "metadata": {
        "id": "kSuuzHFgWx4y"
      },
      "source": [
        "Numerals essentially are just numbers. And you can do all kinds of manipulations with them as you would do with numbers. There are two types of numerals: int and float. \"Int\" is an integer and \"float\" is a number with a decimal point. In the previous versions of Python they were not \"compatible\", meaning you were only able to manipulate the numerals of the same kind. But starting with Python3, you can combine both types in the calculation without it causing any error."
      ]
    },
    {
      "cell_type": "code",
      "execution_count": null,
      "metadata": {
        "id": "nqhqeOLEWx4z"
      },
      "outputs": [],
      "source": [
        "# EXAMPLE\n",
        "\n",
        "2+3"
      ]
    },
    {
      "cell_type": "code",
      "execution_count": null,
      "metadata": {
        "id": "Rs1DBVWJWx40"
      },
      "outputs": [],
      "source": [
        "# EXAMPLE\n",
        "\n",
        "2.0+3"
      ]
    },
    {
      "cell_type": "code",
      "execution_count": null,
      "metadata": {
        "id": "gqGKS-0HWx40"
      },
      "outputs": [],
      "source": [
        "# EXAMPLE\n",
        "\n",
        "4/2"
      ]
    },
    {
      "cell_type": "code",
      "execution_count": null,
      "metadata": {
        "id": "zzX-lNF9Wx40"
      },
      "outputs": [],
      "source": [
        "# EXAMPLE\n",
        "\n",
        "7//2"
      ]
    },
    {
      "cell_type": "code",
      "execution_count": null,
      "metadata": {
        "id": "eX2IqluwWx41"
      },
      "outputs": [],
      "source": [
        "# EXAMPLE\n",
        "\n",
        "5*3"
      ]
    },
    {
      "cell_type": "code",
      "execution_count": null,
      "metadata": {
        "id": "ofxjPd6XWx41"
      },
      "outputs": [],
      "source": [
        "# EXAMPLE\n",
        "\n",
        "5**3"
      ]
    },
    {
      "cell_type": "code",
      "execution_count": null,
      "metadata": {
        "id": "qk5im1MKWx41"
      },
      "outputs": [],
      "source": [
        "# EXAMPLE\n",
        "\n",
        "(1+2)*3"
      ]
    },
    {
      "cell_type": "markdown",
      "metadata": {
        "id": "k3MY5IWLWx41"
      },
      "source": [
        "You can also save a numeral in a variable. You can later use that variable instead of typing a number in your calculations."
      ]
    },
    {
      "cell_type": "code",
      "execution_count": null,
      "metadata": {
        "id": "6tRH6JkYWx42"
      },
      "outputs": [],
      "source": [
        "# EXAMPLE\n",
        "\n",
        "g = 9.8"
      ]
    },
    {
      "cell_type": "code",
      "execution_count": null,
      "metadata": {
        "id": "Mv8uQd7dWx42"
      },
      "outputs": [],
      "source": [
        "# EXAMPLE\n",
        "\n",
        "g*4"
      ]
    },
    {
      "cell_type": "markdown",
      "metadata": {
        "id": "V4_0_0ZRWx42"
      },
      "source": [
        "---\n",
        "## Booleans <a id='subsection4'></a>\n"
      ]
    },
    {
      "cell_type": "markdown",
      "metadata": {
        "id": "zW7UIXIIWx42"
      },
      "source": [
        "Booleans can only take `True` or `False` values. They represent the \"truth\" values in a logical expression, and can help us answer questions that require a binary responses (yes or no) whenever a given condition is or is not met.\n",
        "\n",
        "* \"boolean values\" have a **bool** data type.\n"
      ]
    },
    {
      "cell_type": "markdown",
      "metadata": {
        "id": "SNciFw92Wx43"
      },
      "source": [
        "Let's use the function type to check what type of data type are is True and False."
      ]
    },
    {
      "cell_type": "code",
      "execution_count": null,
      "metadata": {
        "id": "zwO5ji3bWx43"
      },
      "outputs": [],
      "source": [
        "type(True)"
      ]
    },
    {
      "cell_type": "code",
      "execution_count": null,
      "metadata": {
        "id": "zc1jFzmDWx43"
      },
      "outputs": [],
      "source": [
        "type(False)"
      ]
    },
    {
      "cell_type": "markdown",
      "metadata": {
        "id": "FiYQnnp-Wx43"
      },
      "source": [
        "**Truth Values**\n",
        "\n",
        "All of the following evaluate to False."
      ]
    },
    {
      "cell_type": "code",
      "execution_count": null,
      "metadata": {
        "id": "gyJ1t6mGWx43"
      },
      "outputs": [],
      "source": [
        "False == False"
      ]
    },
    {
      "cell_type": "code",
      "execution_count": null,
      "metadata": {
        "id": "u5JV6ksVWx43"
      },
      "outputs": [],
      "source": [
        "False == 0"
      ]
    },
    {
      "cell_type": "code",
      "execution_count": null,
      "metadata": {
        "id": "SviBavaPWx44"
      },
      "outputs": [],
      "source": [
        "False == 0.0"
      ]
    },
    {
      "cell_type": "markdown",
      "metadata": {
        "id": "Q8bAzDplWx44"
      },
      "source": [
        "Booleans also have operations. These are **or** and **and**. Let's look at the table below.\n",
        "\n",
        "\n",
        "#### Boolean Operations\n",
        "\n",
        "These are ordered by ascending priority.\n",
        "\n",
        "|operation| Result |\n",
        "|---------|--------|\n",
        "| x **or** y  | if x is false, then y, else x|\n",
        "| x **and** y | if x is false, then x, else y|\n",
        "| **not** x | if x is false, then True, else False\n",
        "\n"
      ]
    },
    {
      "cell_type": "code",
      "source": [
        "####### Break time display ########\n",
        "# Do not modify\n",
        "from IPython.display import display\n",
        "from IPython.core.display import HTML\n",
        "from time import sleep\n",
        "\n",
        "MINUTES = 15\n",
        "seconds_remaining = int(MINUTES*60)\n",
        "dh = display(HTML(\"<h3 style=\\\"color: black\\\">Break Time Remaining:</h3><h1 style=\\\"color: gold\\\">\"\n",
        "                  + str(seconds_remaining // 60) + ' min </h1><h1 style=\\\"color: blue\\\">'\n",
        "                  + str(seconds_remaining % 60) + ' sec' + \"</h1>\"), display_id=True)\n",
        "\n",
        "for i in range(seconds_remaining + 1):\n",
        "    sleep(1)\n",
        "    dh.update(HTML(\"<h3 style=\\\"color: black\\\">Break Time Remaining:</h3><h1 style=\\\"color: gold\\\">\"\n",
        "                   + str(seconds_remaining // 60) + ' min </h1><h1 style=\\\"color: blue\\\">'\n",
        "                   + str(seconds_remaining % 60) + ' sec' + \"</h1>\"))\n",
        "    seconds_remaining -= 1\n",
        "\n",
        "dh.update(HTML('<h1 style=\\\"color: gold\\\"> Welcome Back!</h>'))"
      ],
      "metadata": {
        "id": "U44Qn6qG4xiB"
      },
      "execution_count": null,
      "outputs": []
    },
    {
      "cell_type": "markdown",
      "metadata": {
        "id": "_Vl-cUHVWx44"
      },
      "source": [
        "---\n",
        "\n",
        "# Data Structures <a id='section2'></a>"
      ]
    },
    {
      "cell_type": "markdown",
      "metadata": {
        "id": "qngCvpgeWx44"
      },
      "source": [
        "---\n",
        "## Lists <a id='subsection5'></a>"
      ]
    },
    {
      "cell_type": "markdown",
      "metadata": {
        "id": "xiTFPzP8Wx44"
      },
      "source": [
        "List is a data type that allows you to save multiple objects. In comparison with strings, lists can contain different data types."
      ]
    },
    {
      "cell_type": "code",
      "execution_count": null,
      "metadata": {
        "id": "K8QVBLdjWx44"
      },
      "outputs": [],
      "source": [
        "# here's how you can create an empty list\n",
        "# you'll learn where to use it later in the workshop\n",
        "\n",
        "empty_lst = []\n",
        "empty_lst"
      ]
    },
    {
      "cell_type": "code",
      "execution_count": null,
      "metadata": {
        "id": "8fngbl99Wx45"
      },
      "outputs": [],
      "source": [
        "# EXAMPLE\n",
        "\n",
        "new_lst = [2, \"name\", 3, [5, 6, 7], \"berkeley\"]\n",
        "new_lst"
      ]
    },
    {
      "cell_type": "markdown",
      "metadata": {
        "id": "mQfR5O6DWx45"
      },
      "source": [
        "Make sure you don't use the built-in functions as names for your variables. If you were to call your list \"list\", then the function with the same name will not work in your notebook anymore. It is easy to tell (in Jupyter Notebooks) whether something is a function/method. When you enter it, it be in green in your code cell."
      ]
    },
    {
      "cell_type": "code",
      "execution_count": null,
      "metadata": {
        "id": "ksseCsXTWx45"
      },
      "outputs": [],
      "source": [
        "list"
      ]
    },
    {
      "cell_type": "markdown",
      "metadata": {
        "id": "JtSHfewhWx46"
      },
      "source": [
        "Let's see how we can use this function on a string."
      ]
    },
    {
      "cell_type": "code",
      "execution_count": null,
      "metadata": {
        "id": "u-dcsKO4Wx46"
      },
      "outputs": [],
      "source": [
        "new_name = list(name)\n",
        "new_name"
      ]
    },
    {
      "cell_type": "markdown",
      "metadata": {
        "id": "yfC-RWgEWx46"
      },
      "source": [
        "### List Iteration and Slicing `[ : ]`"
      ]
    },
    {
      "cell_type": "markdown",
      "metadata": {
        "id": "0jtcPCOFWx46"
      },
      "source": [
        "To iterate through the list, you can use square brackets with an index of an object you are interested in. Like so:"
      ]
    },
    {
      "cell_type": "code",
      "execution_count": null,
      "metadata": {
        "id": "5HA1U7AvWx46"
      },
      "outputs": [],
      "source": [
        "# remember that Python, like many programming languages, starts counting from 0.\n",
        "\n",
        "new_lst[1]"
      ]
    },
    {
      "cell_type": "markdown",
      "metadata": {
        "id": "JEOK05b9Wx47"
      },
      "source": [
        "Notice also that each component of the list separated by a comma is a single object. So the list inside of the list will be a single object. If you want to iterate through a list inside of the list, you will need to use the square brackets twice. Like we did here:"
      ]
    },
    {
      "cell_type": "code",
      "execution_count": null,
      "metadata": {
        "id": "C-N7WCnTWx47"
      },
      "outputs": [],
      "source": [
        "# EXAMPLE\n",
        "\n",
        "new_lst[3][0]"
      ]
    },
    {
      "cell_type": "markdown",
      "metadata": {
        "id": "lcwXlz_bWx47"
      },
      "source": [
        "You can also replace the objects in the list by using iteration."
      ]
    },
    {
      "cell_type": "code",
      "execution_count": null,
      "metadata": {
        "id": "d7s090wxWx47"
      },
      "outputs": [],
      "source": [
        "# EXAMPLE\n",
        "\n",
        "new_lst[0] = 6\n",
        "new_lst"
      ]
    },
    {
      "cell_type": "markdown",
      "metadata": {
        "id": "ebfnsy-eWx49"
      },
      "source": [
        "### List Methods"
      ]
    },
    {
      "cell_type": "markdown",
      "metadata": {
        "id": "xyArFZrTWx49"
      },
      "source": [
        "Lists, being a \"native\" Python Data Structure (just like the Data Types we studied before), lists have built-in functions and methods that we can use with them."
      ]
    },
    {
      "cell_type": "markdown",
      "metadata": {
        "id": "zlzlA3ymWx49"
      },
      "source": [
        "### Adding Elements"
      ]
    },
    {
      "cell_type": "markdown",
      "metadata": {
        "id": "QcYLrv9oWx4-"
      },
      "source": [
        "To add elements to a list, we can use a few fucntions. The ones we will show you today are built-in functions **insert** and **append**."
      ]
    },
    {
      "cell_type": "code",
      "execution_count": null,
      "metadata": {
        "id": "mgwC9M9dWx4-"
      },
      "outputs": [],
      "source": [
        "# EXAMPLE\n",
        "\n",
        "trees = [\"Sequoia\", \"Palm Tree\", \"Joshua Tree\"]\n",
        "\n",
        "# to add an element to the end of the list, we can use \"append\"\n",
        "\n",
        "trees.append(\"Pine Tree\")\n",
        "trees"
      ]
    },
    {
      "cell_type": "markdown",
      "metadata": {
        "id": "nMjt6PBiWx4-"
      },
      "source": [
        "We use **insert** when we want to put something at a certain position. But be careful with it, you actually need to specify the position at which you are inserting an element."
      ]
    },
    {
      "cell_type": "code",
      "execution_count": null,
      "metadata": {
        "id": "Xm7L47dMWx4-"
      },
      "outputs": [],
      "source": [
        "# EXAMPLE\n",
        "\n",
        "trees.insert(2, \"Redwood\")\n",
        "trees"
      ]
    },
    {
      "cell_type": "markdown",
      "metadata": {
        "id": "KTypj51LWx4-"
      },
      "source": [
        "In the cell below, try adding one tree of your liking to the position 1 and then another tree at the end of the list."
      ]
    },
    {
      "cell_type": "code",
      "execution_count": null,
      "metadata": {
        "id": "SnimXjsdWx4_"
      },
      "outputs": [],
      "source": [
        "# EXERCISE\n",
        "\n",
        "\n",
        "...\n",
        "print(trees)\n",
        "\n",
        "\n",
        "...\n",
        "print(trees)"
      ]
    },
    {
      "cell_type": "markdown",
      "metadata": {
        "id": "4ln-fY5EWx4_"
      },
      "source": [
        "### Deleting Elements\n",
        "\n",
        "Python has 3 built-in functions and methods for deleting elements from a list."
      ]
    },
    {
      "cell_type": "code",
      "execution_count": null,
      "metadata": {
        "id": "lqnqnLqqWx4_"
      },
      "outputs": [],
      "source": [
        "random_list = ['Zoom', 1, 7, 9, \"Python\", [3, 8], \"Berkeley\"]"
      ]
    },
    {
      "cell_type": "markdown",
      "metadata": {
        "id": "rO0GqP1uWx4_"
      },
      "source": [
        "Method **del** works with indeces and allows for the deletion of parts of the list through slicing."
      ]
    },
    {
      "cell_type": "code",
      "execution_count": null,
      "metadata": {
        "id": "SoeJmKHYWx5A"
      },
      "outputs": [],
      "source": [
        "# EXAMPLE\n",
        "\n",
        "del random_list[0:2]\n",
        "\n",
        "random_list"
      ]
    },
    {
      "cell_type": "markdown",
      "metadata": {
        "id": "_wr_oCTWWx5A"
      },
      "source": [
        "Method **.pop(  )** works with indeces. It is the last symbol/character/object by default. But you can add a specific index."
      ]
    },
    {
      "cell_type": "code",
      "execution_count": null,
      "metadata": {
        "id": "_GwULNgJWx5B"
      },
      "outputs": [],
      "source": [
        "# EXAMPLE\n",
        "\n",
        "random_list.pop()"
      ]
    },
    {
      "cell_type": "code",
      "execution_count": null,
      "metadata": {
        "id": "tfnDN1gLWx5B"
      },
      "outputs": [],
      "source": [
        "# EXAMPLE\n",
        "\n",
        "random_list.pop(0)"
      ]
    },
    {
      "cell_type": "markdown",
      "metadata": {
        "id": "WELtfc80Wx5B"
      },
      "source": [
        "Notice that **.pop(  )** also outputs the thing it has removed from a list."
      ]
    },
    {
      "cell_type": "code",
      "execution_count": null,
      "metadata": {
        "id": "NetwU57SWx5B"
      },
      "outputs": [],
      "source": [
        "# EXAMPLE\n",
        "\n",
        "state = [\"California\", \"is\", \"on the\", \"West Coast\"]\n",
        "last = state.pop()\n",
        "\n",
        "print(state)\n",
        "print(last)"
      ]
    },
    {
      "cell_type": "markdown",
      "metadata": {
        "id": "WDkqmBlRWx5B"
      },
      "source": [
        "Another method you can use for lists is **.remove**. This method uses the exact values (case matters too)."
      ]
    },
    {
      "cell_type": "code",
      "execution_count": null,
      "metadata": {
        "id": "B_NMI9RrWx5C"
      },
      "outputs": [],
      "source": [
        "# EXAMPLE\n",
        "\n",
        "random_list.remove(\"Python\")"
      ]
    },
    {
      "cell_type": "code",
      "execution_count": null,
      "metadata": {
        "id": "AfBAQCKiWx5C"
      },
      "outputs": [],
      "source": [
        "random_list"
      ]
    },
    {
      "cell_type": "markdown",
      "metadata": {
        "id": "5_tzQqY4Wx5C"
      },
      "source": [
        "Now you try removing any three elements from this list three different ways."
      ]
    },
    {
      "cell_type": "code",
      "execution_count": null,
      "metadata": {
        "id": "KDHIFArNWx5C"
      },
      "outputs": [],
      "source": [
        "# EXERCISE\n",
        "\n",
        "# We created a new list with 7 elements in it\n",
        "\n",
        "california = [\"Los Angeles\", \"San Francisco\", 1, 5, 80, \"San Diego\", [\"49ers\", \"Lakers\"]]\n",
        "\n",
        "# Use 3 different methods of deleting elements from the list\n",
        "\n",
        "... california[...]\n",
        "california ...\n",
        "california ...\n",
        "\n",
        "print(california)"
      ]
    },
    {
      "cell_type": "markdown",
      "metadata": {
        "id": "LDDGz0NmWx5C"
      },
      "source": [
        "#### Length of a list"
      ]
    },
    {
      "cell_type": "markdown",
      "metadata": {
        "id": "Dmd_68_oWx5C"
      },
      "source": [
        "Built-in function **len(   )** can also be used with lists."
      ]
    },
    {
      "cell_type": "code",
      "execution_count": null,
      "metadata": {
        "id": "ZOi0NIHNWx5D"
      },
      "outputs": [],
      "source": [
        "# EXAMPLE\n",
        "# Before running this cell, think what the output will be.\n",
        "\n",
        "countries = [\"USA\", \"Belarus\", \"Mexico\", \"Poland\"]\n",
        "len(countries)"
      ]
    },
    {
      "cell_type": "markdown",
      "metadata": {
        "id": "25sJV-R_Wx5D"
      },
      "source": [
        "How is the **len(  )** different for strings and lists?"
      ]
    },
    {
      "cell_type": "markdown",
      "metadata": {
        "id": "SJlEE-s1Wx5D"
      },
      "source": [
        "---\n",
        "## Arrays (Optional) <a id='subsection6'></a>"
      ]
    },
    {
      "cell_type": "markdown",
      "metadata": {
        "id": "Md5B3yeuWx5D"
      },
      "source": [
        "Arrays are another data type that is similar to lists in a way, but they only allow for one type of information to be saved in them. Where a list can have multiple data types in it, each array can only have objects of one type (either numerals, or strings, or lists, etc.). They also use different methods and functions, that is why it is important to know your data types."
      ]
    },
    {
      "cell_type": "code",
      "execution_count": null,
      "metadata": {
        "id": "OtolLcgGWx5D"
      },
      "outputs": [],
      "source": [
        "# EXAMPLE\n",
        "\n",
        "# here we create two variables with numbers from 0 to 6, one is an array,\n",
        "# and the other is a list\n",
        "\n",
        "x_arr = np.arange(7)\n",
        "x_list = [0, 1, 2, 3, 4, 5, 6]\n",
        "print(x_arr)\n",
        "print(x_list)"
      ]
    },
    {
      "cell_type": "code",
      "execution_count": null,
      "metadata": {
        "id": "4xn0ckV_Wx5D"
      },
      "outputs": [],
      "source": [
        "# EXAMPLE\n",
        "\n",
        "x_arr * 3"
      ]
    },
    {
      "cell_type": "code",
      "execution_count": null,
      "metadata": {
        "id": "h1gxE9d9Wx5D"
      },
      "outputs": [],
      "source": [
        "x_list * 3"
      ]
    },
    {
      "cell_type": "code",
      "execution_count": null,
      "metadata": {
        "id": "Ufv-LCtXWx5D"
      },
      "outputs": [],
      "source": [
        "# EXAMPLE\n",
        "\n",
        "x_arr[2] = 5\n",
        "x_arr"
      ]
    },
    {
      "cell_type": "markdown",
      "metadata": {
        "id": "kkri1vXHWx5E"
      },
      "source": [
        "Arrays are most commonly used with tables, which we will not interact with in this workshop. Arrays are most useful when you want to have a set of the same kind of data that you can easily modify together."
      ]
    },
    {
      "cell_type": "markdown",
      "metadata": {
        "id": "6biwS4QPWx5E"
      },
      "source": [
        "---\n",
        "## Tuples (Optional) <a id='subsection7'></a>"
      ]
    },
    {
      "cell_type": "markdown",
      "metadata": {
        "id": "wDmMxUfOWx5E"
      },
      "source": [
        "Tuples look and behave similarly to arrays, but they **cannot** be modified. It can be used with geospatial data or other data that shouldn't be modified under any circumstances."
      ]
    },
    {
      "cell_type": "code",
      "execution_count": null,
      "metadata": {
        "id": "uugspmP4Wx5E"
      },
      "outputs": [],
      "source": [
        "# EXAMPLE\n",
        "\n",
        "tup = tuple([2, 3, 4])\n",
        "tup"
      ]
    },
    {
      "cell_type": "code",
      "execution_count": null,
      "metadata": {
        "id": "RsfN4LSWWx5E"
      },
      "outputs": [],
      "source": [
        "# EXAMPLE\n",
        "\n",
        "tup[1]"
      ]
    },
    {
      "cell_type": "code",
      "execution_count": null,
      "metadata": {
        "id": "Q6p2CZO4Wx5E"
      },
      "outputs": [],
      "source": [
        "# EXAMPLE\n",
        "\n",
        "tup[1] = 5"
      ]
    },
    {
      "cell_type": "markdown",
      "metadata": {
        "id": "NI3-JYk2Wx5E"
      },
      "source": [
        "---\n",
        "## Dictionaries <a id='subsection8'></a> (Optional)"
      ]
    },
    {
      "cell_type": "markdown",
      "metadata": {
        "id": "CUwRacr2Wx5E"
      },
      "source": [
        "Another powerful data structure is the dictionary. Dictionaries help us store and manipulate data relations.\n",
        "\n",
        "What are dictionaries?\n",
        "\n",
        "- A dictionary is a collection of unordered, mutable and indexable data types. They are structured as key-value pairs.\n",
        "\n",
        "About:\n",
        "* built-in\n",
        "* built using curly brackets - {key: value}\n",
        "* you can access the value using the key ( like a real dictionary)\n",
        "* keys tend to be strings (or text), since typically they represent the title or name of the thing(s) you want to represent.\n",
        "\n",
        "\n",
        "\n",
        "\n"
      ]
    },
    {
      "cell_type": "code",
      "execution_count": null,
      "metadata": {
        "id": "0rEPZJm_Wx5F"
      },
      "outputs": [],
      "source": [
        "# EXAMPLE\n",
        "\n",
        "# favorite movies for a group of 4 students\n",
        "\n",
        "movies = {\"Karla\" : \"Blade Runner\", \"Andy\" : \"Toy Story\", \"Sam\" : \"It\", \"Jennifer\" : \"Harry Potter and the Sorcerer's Stone\"}\n",
        "movies"
      ]
    },
    {
      "cell_type": "markdown",
      "metadata": {
        "id": "bBQJaqIyWx5F"
      },
      "source": [
        "In here, the keys are the names of the students - `Karla, Andy, Sam, and Jennifer`, and  values are the names of the favorite movie for each student - `Blade runner, Toy story, It, and Harry Potter and the Sorcerer's Stone` respectively."
      ]
    },
    {
      "cell_type": "code",
      "execution_count": null,
      "metadata": {
        "id": "14sqrkzyWx5F"
      },
      "outputs": [],
      "source": [
        "# EXAMPLE\n",
        "\n",
        "# Features of my pet. We want to know what to form a relationship\n",
        "# between my pet and it's gestation type, breed, gestation\n",
        "# period (in days), and average lifespan (in years).\n",
        "\n",
        "my_pet = {\"name\" : \"Guido\", \"type\" : \"golden retriever\", \"gestation_period\" : 63, \"life_expectancy\" : 11}\n",
        "my_pet"
      ]
    },
    {
      "cell_type": "markdown",
      "metadata": {
        "id": "N2Aq-fOXWx5F"
      },
      "source": [
        "Notice, that we are able to store different data types in the value filed. For `name` and `type` we have strings, and for `gestation_period` and `life_expectancy` we have numerals."
      ]
    },
    {
      "cell_type": "code",
      "execution_count": null,
      "metadata": {
        "id": "HWSYFwdaWx5F"
      },
      "outputs": [],
      "source": [
        "# EXAMPLE\n",
        "\n",
        "# Now, we want to collect the same information as above\n",
        "# but for different pets, but now we will associate it the\n",
        "# name of the owner. For this exampe, we will say that  Karla\n",
        "# has a dog, Sam has a cat, and Alan has hamster.\n",
        "\n",
        "our_pets = {\"Karla\" : {\"name\" : \"Guido\", \"type\" : \"golden retriever\", \"gestation_period\" : 63, \"life_expectancy\" : 11},\n",
        "            \"Sam\" : {\"name\" : \"Frati\", \"type\" : \"siamese\", \"gestation_period\" : 60, \"life_expectancy\" : 17},\n",
        "            \"Alan\" : {\"name\" : \"Boots\", \"type\" : \"syrian\", \"gestation_period\" : 17, \"life_expectancy\" : 2.5} }\n",
        "our_pets"
      ]
    },
    {
      "cell_type": "markdown",
      "metadata": {
        "id": "C5pxG7qHWx5F"
      },
      "source": [
        "Wow! We just created a dictionary of dictionaries! There are different ways to arrange the information that we stored above. For instance, we could have used lists instead."
      ]
    },
    {
      "cell_type": "code",
      "execution_count": null,
      "metadata": {
        "id": "hTQkdzIhWx5F"
      },
      "outputs": [],
      "source": [
        "# EXAMPLE\n",
        "\n",
        "our_pets_2 = {\"Owner\":[\"Karla\", \"Sam\",\"Alan\"], \"Name\":[\"Guido\",\"Frati\",\"Boots\"], \"type\":[\"golden retriever\",\"siamese\",\"syrian\"],\"gestation_period\":[63,60,17],\"life_expectancy\":[11,17,2.5]}\n",
        "our_pets_2"
      ]
    },
    {
      "cell_type": "markdown",
      "metadata": {
        "id": "qHRoA7x2Wx5G"
      },
      "source": [
        "If this is a bit hard to understand, do not worry! All you need to remember is that they are key-value pairs that store data. Now, let's see how we can access and manipulate that data."
      ]
    },
    {
      "cell_type": "markdown",
      "metadata": {
        "id": "b9HDQveLWx5G"
      },
      "source": [
        "### Accessing Elements\n",
        "\n",
        "The elements in a dictionary you can use the bracket notation we had learned before. It will return the value if the \"key\" exists, otherwise it will return a  KeyError.\n",
        "\n",
        "Let's use the movies example from above."
      ]
    },
    {
      "cell_type": "code",
      "execution_count": null,
      "metadata": {
        "id": "kX9jl9fBWx5G"
      },
      "outputs": [],
      "source": [
        "# Run this cell to see the dictionary\n",
        "\n",
        "movies"
      ]
    },
    {
      "cell_type": "code",
      "execution_count": null,
      "metadata": {
        "id": "-vFRMPwkWx5G"
      },
      "outputs": [],
      "source": [
        "# EXAMPLE\n",
        "\n",
        "movies['Sam']"
      ]
    },
    {
      "cell_type": "code",
      "execution_count": null,
      "metadata": {
        "id": "VfyQcJZnWx5G"
      },
      "outputs": [],
      "source": [
        "# EXERCISE\n",
        "\n",
        "# What movie does Andy like?"
      ]
    },
    {
      "cell_type": "markdown",
      "metadata": {
        "id": "u27lZVRcWx5H"
      },
      "source": [
        "In the example above, \"Sam\" is the key, and \"It\" is value. Now, let's try to access a key that is NOT on the dictionary."
      ]
    },
    {
      "cell_type": "code",
      "execution_count": null,
      "metadata": {
        "id": "VQH4aubbWx5H"
      },
      "outputs": [],
      "source": [
        "# EXAMPLE\n",
        "\n",
        "movies['Jen']"
      ]
    },
    {
      "cell_type": "markdown",
      "metadata": {
        "id": "nE2O1FdrWx5H"
      },
      "source": [
        "### Inserting and Changing Elements"
      ]
    },
    {
      "cell_type": "markdown",
      "metadata": {
        "id": "8NEOzzzdWx5H"
      },
      "source": [
        "### Changing Elements\n",
        "Let's begin by changing the Sam's favorite movie to \"Wizard of Oz\"."
      ]
    },
    {
      "cell_type": "code",
      "execution_count": null,
      "metadata": {
        "id": "9dd0-5YMWx5H"
      },
      "outputs": [],
      "source": [
        "# EXAMPLE\n",
        "\n",
        "movies['Sam']= \"Wizard of Oz\"\n",
        "\n",
        "movies"
      ]
    },
    {
      "cell_type": "code",
      "execution_count": null,
      "metadata": {
        "id": "R3jOlXLgWx5I"
      },
      "outputs": [],
      "source": [
        "# EXERCISE\n",
        "\n",
        "# Change the movie that Andy likes to your favorite movie"
      ]
    },
    {
      "cell_type": "markdown",
      "metadata": {
        "id": "Rg8XIBD5Wx5I"
      },
      "source": [
        "### Adding Elements\n",
        "\n",
        "We can add and insert elements in a dictionary the same way."
      ]
    },
    {
      "cell_type": "code",
      "execution_count": null,
      "metadata": {
        "id": "YhVIO4n8Wx5I"
      },
      "outputs": [],
      "source": [
        "# EXAMPLE\n",
        "\n",
        "movies['Karina'] = \"Coco\"\n",
        "\n",
        "movies"
      ]
    },
    {
      "cell_type": "code",
      "execution_count": null,
      "metadata": {
        "id": "6Yg2n_lsWx5I"
      },
      "outputs": [],
      "source": [
        "# EXERCISE\n",
        "\n",
        "# Add new person and their favorite movie to the dictionary"
      ]
    },
    {
      "cell_type": "markdown",
      "metadata": {
        "id": "kG0OnYKgWx5I"
      },
      "source": [
        "### Removing Elements"
      ]
    },
    {
      "cell_type": "markdown",
      "metadata": {
        "id": "bmE9owa1Wx5I"
      },
      "source": [
        "To remove an element, we have to use the function `del`."
      ]
    },
    {
      "cell_type": "code",
      "execution_count": null,
      "metadata": {
        "scrolled": true,
        "id": "9hOa5XXmWx5J"
      },
      "outputs": [],
      "source": [
        "# EXAMPLE\n",
        "\n",
        "del movies['Karla']\n",
        "movies"
      ]
    },
    {
      "cell_type": "code",
      "execution_count": null,
      "metadata": {
        "id": "xLiWXXGCWx5J"
      },
      "outputs": [],
      "source": [
        "# EXERCISE\n",
        "\n",
        "# Remove the entry you added on the previous exercise"
      ]
    },
    {
      "cell_type": "markdown",
      "metadata": {
        "id": "wqs-NsqRWx5J"
      },
      "source": [
        "---\n",
        "Notebook developed by: Kseniya Usovich, Karla Palos, and Anton Bosneaga\n",
        "\n",
        "Cal NERDS GitHub: https://github.com/Cal-NERDS\n"
      ]
    },
    {
      "cell_type": "code",
      "source": [],
      "metadata": {
        "id": "NFRbcLrP412v"
      },
      "execution_count": null,
      "outputs": []
    }
  ],
  "metadata": {
    "anaconda-cloud": {},
    "kernelspec": {
      "display_name": "Python 3 (ipykernel)",
      "language": "python",
      "name": "python3"
    },
    "language_info": {
      "codemirror_mode": {
        "name": "ipython",
        "version": 3
      },
      "file_extension": ".py",
      "mimetype": "text/x-python",
      "name": "python",
      "nbconvert_exporter": "python",
      "pygments_lexer": "ipython3",
      "version": "3.8.11"
    },
    "colab": {
      "provenance": [],
      "include_colab_link": true
    }
  },
  "nbformat": 4,
  "nbformat_minor": 0
}